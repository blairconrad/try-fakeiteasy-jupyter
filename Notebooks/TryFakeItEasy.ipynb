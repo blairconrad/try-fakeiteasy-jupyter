{
 "cells": [
  {
   "cell_type": "markdown",
   "metadata": {},
   "source": [
    "### First some bookkeeping\n",
    "Reference FakeItEasy. Normally you'd just add a NuGet reference"
   ]
  },
  {
   "cell_type": "code",
   "execution_count": null,
   "metadata": {},
   "outputs": [],
   "source": [
    "#r \"nuget:FakeItEasy\""
   ]
  },
  {
   "cell_type": "markdown",
   "metadata": {},
   "source": [
    "### Set up some classes and interfaces to work with"
   ]
  },
  {
   "cell_type": "code",
   "execution_count": null,
   "metadata": {},
   "outputs": [],
   "source": [
    "public interface ICandy \n",
    "{\n",
    "}\n",
    "\n",
    "public class Lollipop : ICandy\n",
    "{\n",
    "}\n",
    "\n",
    "public interface ICandyShop\n",
    "{\n",
    "    ICandy GetTopSellingCandy();\n",
    "    void BuyCandy(ICandy candy);\n",
    "}\n",
    "\n",
    "// The class under test\n",
    "public class SweetTooth\n",
    "{\n",
    "    public void BuyTastiestCandy(ICandyShop shop)\n",
    "    {\n",
    "        var candy = shop.GetTopSellingCandy();\n",
    "    }\n",
    "}"
   ]
  },
  {
   "cell_type": "markdown",
   "metadata": {},
   "source": [
    "### Write a test\n"
   ]
  },
  {
   "cell_type": "code",
   "execution_count": null,
   "metadata": {},
   "outputs": [],
   "source": [
    "using FakeItEasy;\n",
    "\n",
    "// Create a new developer, the system under test\n",
    "var developer = new SweetTooth();\n",
    "\n",
    "// Fake a collaborator for developer to work with\n",
    "var shop = A.Fake<ICandyShop>();\n",
    "\n",
    "// Easily set up a call to return a value\n",
    "var lollipop = new Lollipop();\n",
    "A.CallTo(() => shop.GetTopSellingCandy()).Returns(lollipop);\n",
    "\n",
    "// Exercise the system under test, passing in our Fake\n",
    "developer.BuyTastiestCandy(shop);\n",
    "\n",
    "// Asserting uses the same syntax as configuring calls. There's no need to learn another syntax.\n",
    "A.CallTo(() => shop.BuyCandy(lollipop)).MustHaveHappened();"
   ]
  },
  {
   "cell_type": "markdown",
   "metadata": {},
   "source": [
    "### What happened?\n",
    "\n",
    "FakeItEasy threw an `ExpecationException`, saying\n",
    "\n",
    "```\n",
    "Assertion failed for the following call:\n",
    "    Submission#13+ICandyShop.BuyCandy(candy: Submission#13+Lollipop)\n",
    "Expected to find it once or more but didn't find it among the calls:\n",
    "    1: Submission#13+ICandyShop.GetTopSellingCandy()\n",
    "```\n",
    "\n",
    "The test failed because we forgot to actually _buy_ the candy in the `BuyTastiestCandy` method:\n",
    "\n",
    "```c#\n",
    "public void BuyTastiestCandy(ICandyShop shop)\n",
    "{\n",
    "    var candy = shop.GetTopSellingCandy();\n",
    "}\n",
    "```\n",
    "\n",
    "\n",
    "We'll fix the method by updating it below.\n"
   ]
  },
  {
   "cell_type": "code",
   "execution_count": null,
   "metadata": {},
   "outputs": [],
   "source": [
    "// The class under test\n",
    "public class SweetTooth\n",
    "{\n",
    "    public void BuyTastiestCandy(ICandyShop shop)\n",
    "    {\n",
    "        var candy = shop.GetTopSellingCandy();\n",
    "        shop.BuyCandy(candy);\n",
    "    }\n",
    "}"
   ]
  },
  {
   "cell_type": "markdown",
   "metadata": {},
   "source": [
    "And run the test again:"
   ]
  },
  {
   "cell_type": "code",
   "execution_count": null,
   "metadata": {},
   "outputs": [],
   "source": [
    "// Create a new developer, the system under test\n",
    "var developer = new SweetTooth();\n",
    "\n",
    "// Fake a collaborator for developer to work with\n",
    "var shop = A.Fake<ICandyShop>();\n",
    "\n",
    "// Easily set up a call to return a value\n",
    "var lollipop = new Lollipop();\n",
    "A.CallTo(() => shop.GetTopSellingCandy()).Returns(lollipop);\n",
    "\n",
    "// Exercise the system under test, passing in our Fake\n",
    "developer.BuyTastiestCandy(shop);\n",
    "\n",
    "// Asserting uses the same syntax as configuring calls. There's no need to learn another syntax.\n",
    "A.CallTo(() => shop.BuyCandy(lollipop)).MustHaveHappened();"
   ]
  },
  {
   "cell_type": "markdown",
   "metadata": {},
   "source": [
    "There's no output, indicating a successful test!"
   ]
  }
 ],
 "metadata": {
  "kernelspec": {
   "display_name": ".NET (C#)",
   "language": "C#",
   "name": ".net-csharp"
  },
  "language_info": {
   "file_extension": ".cs",
   "mimetype": "text/x-csharp",
   "name": "C#",
   "pygments_lexer": "csharp",
   "version": "8.0"
  }
 },
 "nbformat": 4,
 "nbformat_minor": 4
}
